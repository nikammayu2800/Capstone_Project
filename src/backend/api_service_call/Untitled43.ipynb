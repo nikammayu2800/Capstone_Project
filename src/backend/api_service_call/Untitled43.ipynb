{
 "cells": [
  {
   "cell_type": "code",
   "execution_count": 1,
   "id": "0f76d095",
   "metadata": {},
   "outputs": [
    {
     "name": "stdout",
     "output_type": "stream",
     "text": [
      "Initial Dataset:\n",
      "   Unnamed: 0                                              title  \\\n",
      "0        8476                       You Can Smell Hillary’s Fear   \n",
      "1       10294  Watch The Exact Moment Paul Ryan Committed Pol...   \n",
      "2        3608        Kerry to go to Paris in gesture of sympathy   \n",
      "3       10142  Bernie supporters on Twitter erupt in anger ag...   \n",
      "4         875   The Battle of New York: Why This Primary Matters   \n",
      "\n",
      "                                                text label  \n",
      "0  Daniel Greenfield, a Shillman Journalism Fello...  FAKE  \n",
      "1  Google Pinterest Digg Linkedin Reddit Stumbleu...  FAKE  \n",
      "2  U.S. Secretary of State John F. Kerry said Mon...  REAL  \n",
      "3  — Kaydee King (@KaydeeKing) November 9, 2016 T...  FAKE  \n",
      "4  It's primary day in New York and front-runners...  REAL  \n"
     ]
    }
   ],
   "source": [
    "import pandas as pd\n",
    "\n",
    "# Load the dataset from the specified path\n",
    "file_path = r'C:\\Users\\SHIVA\\Downloads\\archive\\news.csv'\n",
    "df = pd.read_csv(file_path)\n",
    "\n",
    "# Display the first few rows to inspect the data\n",
    "print(\"Initial Dataset:\")\n",
    "print(df.head())\n",
    "\n",
    "# Your cleaning code here...\n",
    "# For example:\n",
    "# Handle Missing Values\n",
    "# Correct Data Types\n",
    "# Text Data Cleaning\n",
    "# Save the cleaned dataset\n"
   ]
  },
  {
   "cell_type": "code",
   "execution_count": 2,
   "id": "e0c1a6a3",
   "metadata": {},
   "outputs": [
    {
     "name": "stderr",
     "output_type": "stream",
     "text": [
      "C:\\Users\\SHIVA\\AppData\\Local\\Temp\\ipykernel_9532\\1239011430.py:21: FutureWarning: The default value of regex will change from True to False in a future version.\n",
      "  df['clean_title'] = df['title'].str.replace('[^a-zA-Z\\s]', '').str.lower()\n",
      "C:\\Users\\SHIVA\\AppData\\Local\\Temp\\ipykernel_9532\\1239011430.py:22: FutureWarning: The default value of regex will change from True to False in a future version.\n",
      "  df['clean_text'] = df['text'].str.replace('[^a-zA-Z\\s]', '').str.lower()\n"
     ]
    },
    {
     "name": "stdout",
     "output_type": "stream",
     "text": [
      "Cleaned Dataset:\n",
      "                                               title  \\\n",
      "0                       You Can Smell Hillary’s Fear   \n",
      "1  Watch The Exact Moment Paul Ryan Committed Pol...   \n",
      "2        Kerry to go to Paris in gesture of sympathy   \n",
      "3  Bernie supporters on Twitter erupt in anger ag...   \n",
      "4   The Battle of New York: Why This Primary Matters   \n",
      "\n",
      "                                                text  label  \\\n",
      "0  Daniel Greenfield, a Shillman Journalism Fello...      0   \n",
      "1  Google Pinterest Digg Linkedin Reddit Stumbleu...      0   \n",
      "2  U.S. Secretary of State John F. Kerry said Mon...      1   \n",
      "3  — Kaydee King (@KaydeeKing) November 9, 2016 T...      0   \n",
      "4  It's primary day in New York and front-runners...      1   \n",
      "\n",
      "                                         clean_title  \\\n",
      "0                        you can smell hillarys fear   \n",
      "1  watch the exact moment paul ryan committed pol...   \n",
      "2        kerry to go to paris in gesture of sympathy   \n",
      "3  bernie supporters on twitter erupt in anger ag...   \n",
      "4    the battle of new york why this primary matters   \n",
      "\n",
      "                                          clean_text  \n",
      "0  daniel greenfield a shillman journalism fellow...  \n",
      "1  google pinterest digg linkedin reddit stumbleu...  \n",
      "2  us secretary of state john f kerry said monday...  \n",
      "3   kaydee king kaydeeking november   the lesson ...  \n",
      "4  its primary day in new york and frontrunners h...  \n"
     ]
    }
   ],
   "source": [
    "import pandas as pd\n",
    "\n",
    "# Load the dataset\n",
    "file_path = r'C:\\Users\\SHIVA\\Downloads\\archive\\news.csv'\n",
    "df = pd.read_csv(file_path)\n",
    "\n",
    "# Drop the 'Unnamed: 0' column as it seems to be an unnecessary index\n",
    "df.drop(columns=['Unnamed: 0'], inplace=True)\n",
    "\n",
    "# Handle missing values (if any)\n",
    "df.dropna(inplace=True)\n",
    "\n",
    "# Remove empty rows where both 'title' and 'text' columns are empty\n",
    "df = df[(df['title'].str.strip() != '') | (df['text'].str.strip() != '')]\n",
    "\n",
    "# Convert 'label' column to binary numeric values (if needed)\n",
    "df['label'] = df['label'].map({'FAKE': 0, 'REAL': 1})\n",
    "\n",
    "# Text Data Cleaning (for 'title' and 'text' columns)\n",
    "# Example: Removing special characters, converting text to lowercase\n",
    "df['clean_title'] = df['title'].str.replace('[^a-zA-Z\\s]', '').str.lower()\n",
    "df['clean_text'] = df['text'].str.replace('[^a-zA-Z\\s]', '').str.lower()\n",
    "\n",
    "# Display the cleaned dataset\n",
    "print(\"Cleaned Dataset:\")\n",
    "print(df.head())\n",
    "\n",
    "# Save the cleaned dataset\n",
    "cleaned_file_path = r'C:\\Users\\SHIVA\\Downloads\\archive\\cleaned_news.csv'\n",
    "df.to_csv(cleaned_file_path, index=False)\n"
   ]
  },
  {
   "cell_type": "markdown",
   "id": "6ffec46d",
   "metadata": {},
   "source": [
    "# Naive Bayes classifier"
   ]
  },
  {
   "cell_type": "code",
   "execution_count": 3,
   "id": "074e3ca0",
   "metadata": {},
   "outputs": [
    {
     "name": "stdout",
     "output_type": "stream",
     "text": [
      "Accuracy: 0.898973954222573\n"
     ]
    }
   ],
   "source": [
    "import pandas as pd\n",
    "from sklearn.model_selection import train_test_split\n",
    "from sklearn.feature_extraction.text import CountVectorizer\n",
    "from sklearn.naive_bayes import MultinomialNB\n",
    "from sklearn.metrics import accuracy_score\n",
    "\n",
    "# Load the dataset\n",
    "file_path = r'C:\\Users\\SHIVA\\Downloads\\archive\\news.csv'\n",
    "data = pd.read_csv(file_path)\n",
    "\n",
    "# Assuming the dataset has 'text' as the column containing textual data and 'category' as the target variable\n",
    "\n",
    "# Splitting the dataset into training and testing sets\n",
    "train_data, test_data = train_test_split(data, test_size=0.2, random_state=42)\n",
    "\n",
    "# Training data\n",
    "train_texts = train_data['text']\n",
    "train_labels = train_data['label']\n",
    "\n",
    "# Testing data\n",
    "test_texts = test_data['text']\n",
    "test_labels = test_data['label']\n",
    "\n",
    "# Vectorize the text data\n",
    "vectorizer = CountVectorizer()\n",
    "X_train = vectorizer.fit_transform(train_texts)\n",
    "X_test = vectorizer.transform(test_texts)\n",
    "\n",
    "# Initialize Naive Bayes classifier\n",
    "naive_bayes = MultinomialNB()\n",
    "\n",
    "# Train the classifier on the training data\n",
    "naive_bayes.fit(X_train, train_labels)\n",
    "\n",
    "# Predict on the testing data\n",
    "predictions = naive_bayes.predict(X_test)\n",
    "\n",
    "# Calculate accuracy\n",
    "accuracy = accuracy_score(test_labels, predictions)\n",
    "print(\"Accuracy:\", accuracy)\n"
   ]
  },
  {
   "cell_type": "code",
   "execution_count": 4,
   "id": "3a4e66b9",
   "metadata": {},
   "outputs": [
    {
     "name": "stdout",
     "output_type": "stream",
     "text": [
      "Index(['Unnamed: 0', 'title', 'text', 'label'], dtype='object')\n"
     ]
    }
   ],
   "source": [
    "print(data.columns)\n"
   ]
  },
  {
   "cell_type": "markdown",
   "id": "ff6f0d7f",
   "metadata": {},
   "source": [
    "# Decision Tree"
   ]
  },
  {
   "cell_type": "code",
   "execution_count": 5,
   "id": "a8955e60",
   "metadata": {},
   "outputs": [
    {
     "name": "stdout",
     "output_type": "stream",
     "text": [
      "Accuracy: 0.7971586424625099\n"
     ]
    }
   ],
   "source": [
    "import pandas as pd\n",
    "from sklearn.model_selection import train_test_split\n",
    "from sklearn.feature_extraction.text import CountVectorizer\n",
    "from sklearn.tree import DecisionTreeClassifier\n",
    "from sklearn.metrics import accuracy_score\n",
    "\n",
    "# Load the dataset\n",
    "file_path = r'C:\\Users\\SHIVA\\Downloads\\archive\\news.csv'\n",
    "data = pd.read_csv(file_path)\n",
    "\n",
    "# Splitting the dataset into training and testing sets\n",
    "train_data, test_data = train_test_split(data, test_size=0.2, random_state=42)\n",
    "\n",
    "# Training data\n",
    "train_texts = train_data['text']\n",
    "train_labels = train_data['label']\n",
    "\n",
    "# Testing data\n",
    "test_texts = test_data['text']\n",
    "test_labels = test_data['label']\n",
    "\n",
    "# Vectorize the text data\n",
    "vectorizer = CountVectorizer()\n",
    "X_train = vectorizer.fit_transform(train_texts)\n",
    "X_test = vectorizer.transform(test_texts)\n",
    "\n",
    "# Initialize Decision Tree classifier\n",
    "decision_tree = DecisionTreeClassifier()\n",
    "\n",
    "# Train the classifier on the training data\n",
    "decision_tree.fit(X_train, train_labels)\n",
    "\n",
    "# Predict on the testing data\n",
    "predictions = decision_tree.predict(X_test)\n",
    "\n",
    "# Calculate accuracy\n",
    "accuracy = accuracy_score(test_labels, predictions)\n",
    "\n",
    "print(\"Accuracy:\", accuracy)\n"
   ]
  },
  {
   "cell_type": "markdown",
   "id": "71f1eb14",
   "metadata": {},
   "source": [
    "# Random Forest classifier"
   ]
  },
  {
   "cell_type": "code",
   "execution_count": 6,
   "id": "0529540b",
   "metadata": {},
   "outputs": [
    {
     "name": "stdout",
     "output_type": "stream",
     "text": [
      "Accuracy: 0.8918705603788477\n"
     ]
    }
   ],
   "source": [
    "import pandas as pd\n",
    "from sklearn.model_selection import train_test_split\n",
    "from sklearn.feature_extraction.text import CountVectorizer\n",
    "from sklearn.ensemble import RandomForestClassifier\n",
    "from sklearn.metrics import accuracy_score\n",
    "\n",
    "# Load the dataset\n",
    "file_path = r'C:\\Users\\SHIVA\\Downloads\\archive\\news.csv'\n",
    "data = pd.read_csv(file_path)\n",
    "\n",
    "# Splitting the dataset into training and testing sets\n",
    "train_data, test_data = train_test_split(data, test_size=0.2, random_state=42)\n",
    "\n",
    "# Training data\n",
    "train_texts = train_data['text']\n",
    "train_labels = train_data['label']\n",
    "\n",
    "# Testing data\n",
    "test_texts = test_data['text']\n",
    "test_labels = test_data['label']\n",
    "\n",
    "# Vectorize the text data\n",
    "vectorizer = CountVectorizer()\n",
    "X_train = vectorizer.fit_transform(train_texts)\n",
    "X_test = vectorizer.transform(test_texts)\n",
    "\n",
    "# Initialize Random Forest classifier\n",
    "random_forest = RandomForestClassifier()\n",
    "\n",
    "# Train the classifier on the training data\n",
    "random_forest.fit(X_train, train_labels)\n",
    "\n",
    "# Predict on the testing data\n",
    "predictions = random_forest.predict(X_test)\n",
    "\n",
    "# Calculate accuracy\n",
    "accuracy = accuracy_score(test_labels, predictions)\n",
    "\n",
    "print(\"Accuracy:\", accuracy)\n"
   ]
  },
  {
   "cell_type": "code",
   "execution_count": 8,
   "id": "a0e9135d",
   "metadata": {},
   "outputs": [
    {
     "data": {
      "image/png": "[encoded data removed]",
      "text/plain": [
       "<Figure size 576x432 with 1 Axes>"
      ]
     },
     "metadata": {
      "needs_background": "light"
     },
     "output_type": "display_data"
    }
   ],
   "source": [
    "import pandas as pd\n",
    "import seaborn as sns\n",
    "import matplotlib.pyplot as plt\n",
    "\n",
    "# Load the dataset\n",
    "file_path = r'C:\\Users\\SHIVA\\Downloads\\archive\\news.csv'\n",
    "data = pd.read_csv(file_path)\n",
    "\n",
    "# Plotting the count of each category\n",
    "plt.figure(figsize=(8, 6))\n",
    "sns.countplot(x='label', data=data)\n",
    "plt.title('Distribution of Fake and Real Data')\n",
    "plt.xlabel('Category')\n",
    "plt.ylabel('Count')\n",
    "plt.show()\n"
   ]
  },
  {
   "cell_type": "code",
   "execution_count": 9,
   "id": "c2538da7",
   "metadata": {},
   "outputs": [
    {
     "name": "stdout",
     "output_type": "stream",
     "text": [
      "Number of real news rows: 3171\n",
      "Number of fake news rows: 3164\n"
     ]
    }
   ],
   "source": [
    "import pandas as pd\n",
    "\n",
    "# Load the dataset\n",
    "file_path = r'C:\\Users\\SHIVA\\Downloads\\archive\\news.csv'\n",
    "data = pd.read_csv(file_path)\n",
    "\n",
    "# Count the number of rows for each category\n",
    "category_counts = data['label'].value_counts()\n",
    "\n",
    "# Print the counts\n",
    "print(\"Number of real news rows:\", category_counts['REAL'])\n",
    "print(\"Number of fake news rows:\", category_counts['FAKE'])\n"
   ]
  },
  {
   "cell_type": "code",
   "execution_count": 10,
   "id": "6dec8963",
   "metadata": {},
   "outputs": [
    {
     "data": {
      "image/png": "[encoded data removed]",
      "text/plain": [
       "<Figure size 576x432 with 1 Axes>"
      ]
     },
     "metadata": {},
     "output_type": "display_data"
    },
    {
     "name": "stdout",
     "output_type": "stream",
     "text": [
      "Number of real news rows: 3171\n",
      "Number of fake news rows: 3164\n"
     ]
    }
   ],
   "source": [
    "import pandas as pd\n",
    "import matplotlib.pyplot as plt\n",
    "\n",
    "# Load the dataset\n",
    "file_path = r'C:\\Users\\SHIVA\\Downloads\\archive\\news.csv'\n",
    "data = pd.read_csv(file_path)\n",
    "\n",
    "# Count the number of rows for each category\n",
    "category_counts = data['label'].value_counts()\n",
    "\n",
    "# Plotting the count of each category\n",
    "plt.figure(figsize=(8, 6))\n",
    "category_counts.plot(kind='pie', autopct='%1.1f%%', colors=['skyblue', 'lightcoral'], labels=['Fake', 'Real'])\n",
    "plt.title('Distribution of Fake and Real News')\n",
    "plt.ylabel('')\n",
    "plt.show()\n",
    "\n",
    "# Print the counts\n",
    "print(\"Number of real news rows:\", category_counts['REAL'])\n",
    "print(\"Number of fake news rows:\", category_counts['FAKE'])\n",
    "\n"
   ]
  },
  {
   "cell_type": "code",
   "execution_count": null,
   "id": "13a8b843",
   "metadata": {},
   "outputs": [],
   "source": []
  }
 ],
 "metadata": {
  "kernelspec": {
   "display_name": "Python 3 (ipykernel)",
   "language": "python",
   "name": "python3"
  },
  "language_info": {
   "codemirror_mode": {
    "name": "ipython",
    "version": 3
   },
   "file_extension": ".py",
   "mimetype": "text/x-python",
   "name": "python",
   "nbconvert_exporter": "python",
   "pygments_lexer": "ipython3",
   "version": "3.9.12"
  }
 },
 "nbformat": 4,
 "nbformat_minor": 5
}
